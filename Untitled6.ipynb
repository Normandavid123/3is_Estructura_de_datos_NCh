{
  "nbformat": 4,
  "nbformat_minor": 0,
  "metadata": {
    "colab": {
      "provenance": []
    },
    "kernelspec": {
      "name": "python3",
      "display_name": "Python 3"
    },
    "language_info": {
      "name": "python"
    }
  },
  "cells": [
    {
      "cell_type": "markdown",
      "source": [
        "# DATOS PRIMITIVOS\n"
      ],
      "metadata": {
        "id": "adGPfxLlW3ni"
      }
    },
    {
      "cell_type": "code",
      "source": [
        "var_1 = \"test text\""
      ],
      "metadata": {
        "id": "2_zNm5QZXNrZ"
      },
      "execution_count": 1,
      "outputs": []
    },
    {
      "cell_type": "code",
      "source": [
        "Var_2 = \"DAVID CHAVERRA\"\n",
        "\n"
      ],
      "metadata": {
        "id": "r4z0w1jbX_go"
      },
      "execution_count": 14,
      "outputs": []
    },
    {
      "cell_type": "code",
      "source": [
        "var_3 = \"32\""
      ],
      "metadata": {
        "id": "oAwb1wkVYe9w"
      },
      "execution_count": 15,
      "outputs": []
    },
    {
      "cell_type": "code",
      "source": [
        "var_4 = \"1.92\""
      ],
      "metadata": {
        "id": "K44_v_qIYj7w"
      },
      "execution_count": 16,
      "outputs": []
    },
    {
      "cell_type": "code",
      "source": [
        "print(Var_2,var_3,var_4)"
      ],
      "metadata": {
        "colab": {
          "base_uri": "https://localhost:8080/"
        },
        "id": "ReIN0LBOZCy4",
        "outputId": "86e24db1-b38d-4ad4-c6ba-96d188725a5b"
      },
      "execution_count": 17,
      "outputs": [
        {
          "output_type": "stream",
          "name": "stdout",
          "text": [
            "DAVID CHAVERRA 32 1.92\n"
          ]
        }
      ]
    },
    {
      "cell_type": "code",
      "source": [
        "mi_lista=[1,2,3,\"a\",\"b\"]\n",
        "print(mi_lista)"
      ],
      "metadata": {
        "colab": {
          "base_uri": "https://localhost:8080/"
        },
        "id": "_2YRI9GbbRJ4",
        "outputId": "b1157e1b-f252-4816-bdda-6b96d671594d"
      },
      "execution_count": 21,
      "outputs": [
        {
          "output_type": "stream",
          "name": "stdout",
          "text": [
            "[1, 2, 3, 'a', 'b']\n"
          ]
        }
      ]
    },
    {
      "cell_type": "code",
      "source": [
        "mi_lista.append(\"c\")\n",
        "print(mi_lista)"
      ],
      "metadata": {
        "colab": {
          "base_uri": "https://localhost:8080/"
        },
        "id": "vCKbyGl5cMh2",
        "outputId": "23d2a033-aaa7-4099-cfd4-29420109a652"
      },
      "execution_count": 22,
      "outputs": [
        {
          "output_type": "stream",
          "name": "stdout",
          "text": [
            "[1, 2, 3, 'a', 'b', 'c']\n"
          ]
        }
      ]
    },
    {
      "cell_type": "code",
      "source": [
        "mi_lista.insert(3,\"d\")\n",
        "print(mi_lista)"
      ],
      "metadata": {
        "colab": {
          "base_uri": "https://localhost:8080/"
        },
        "id": "COeG6lKbcVPo",
        "outputId": "8b1ea44c-3818-44aa-f750-527687e2a0bf"
      },
      "execution_count": 23,
      "outputs": [
        {
          "output_type": "stream",
          "name": "stdout",
          "text": [
            "[1, 2, 3, 'd', 'a', 'b', 'c']\n"
          ]
        }
      ]
    },
    {
      "cell_type": "code",
      "source": [
        "print(mi_lista[3])"
      ],
      "metadata": {
        "colab": {
          "base_uri": "https://localhost:8080/"
        },
        "id": "YIWZW7JAcivZ",
        "outputId": "91b91e84-e58f-415f-be7a-3fb0e6cf6c51"
      },
      "execution_count": 24,
      "outputs": [
        {
          "output_type": "stream",
          "name": "stdout",
          "text": [
            "d\n"
          ]
        }
      ]
    },
    {
      "cell_type": "code",
      "source": [
        "mi_lista2= [\"j\",\"e\",\"s\",\"u\",\"s\"]\n",
        "print(mi_lista2)\n",
        "print(mi_lista2[-1],end=\"\"),print(mi_lista2[-2],end=\"\"),print(mi_lista2[-3],end=\"\"),print(mi_lista2[-4],end=\"\"),print(mi_lista2[-5],end=\"\")"
      ],
      "metadata": {
        "colab": {
          "base_uri": "https://localhost:8080/"
        },
        "id": "nSL015RSc8X9",
        "outputId": "9f3bca60-0719-4c0b-8d13-d340f5712ed6"
      },
      "execution_count": 34,
      "outputs": [
        {
          "output_type": "stream",
          "name": "stdout",
          "text": [
            "['j', 'e', 's', 'u', 's']\n",
            "susej"
          ]
        },
        {
          "output_type": "execute_result",
          "data": {
            "text/plain": [
              "(None, None, None, None, None)"
            ]
          },
          "metadata": {},
          "execution_count": 34
        }
      ]
    },
    {
      "cell_type": "code",
      "source": [
        "var_n =\"jesus\"\n",
        "nombre = list(var_n)\n",
        "print(nombre)"
      ],
      "metadata": {
        "colab": {
          "base_uri": "https://localhost:8080/"
        },
        "id": "mUVStkgWdUWV",
        "outputId": "893a90d6-b1a8-4d60-de53-2aa9c923e944"
      },
      "execution_count": 35,
      "outputs": [
        {
          "output_type": "stream",
          "name": "stdout",
          "text": [
            "['j', 'e', 's', 'u', 's']\n"
          ]
        }
      ]
    },
    {
      "cell_type": "code",
      "source": [
        "print(mi_lista2[2:5])"
      ],
      "metadata": {
        "colab": {
          "base_uri": "https://localhost:8080/"
        },
        "id": "lcO03yQ0kXqQ",
        "outputId": "bc196a12-3059-4a10-c596-42bbc4497238"
      },
      "execution_count": 37,
      "outputs": [
        {
          "output_type": "stream",
          "name": "stdout",
          "text": [
            "['s', 'u', 's']\n"
          ]
        }
      ]
    },
    {
      "cell_type": "code",
      "source": [
        "print(range(10))"
      ],
      "metadata": {
        "colab": {
          "base_uri": "https://localhost:8080/"
        },
        "id": "Y8_JpijkkjPD",
        "outputId": "df3d61cd-ee7a-4ced-cae6-5be2b61cc621"
      },
      "execution_count": 38,
      "outputs": [
        {
          "output_type": "stream",
          "name": "stdout",
          "text": [
            "range(0, 10)\n"
          ]
        }
      ]
    },
    {
      "cell_type": "code",
      "source": [
        "for i in range(5):\n",
        " print(nombre[i], end=\"\")\n",
        " print(i)"
      ],
      "metadata": {
        "colab": {
          "base_uri": "https://localhost:8080/"
        },
        "id": "xsHTag4JmqDa",
        "outputId": "b3cf73e5-46e8-427d-8e9b-cd648135c853"
      },
      "execution_count": 47,
      "outputs": [
        {
          "output_type": "stream",
          "name": "stdout",
          "text": [
            "j0\n",
            "e1\n",
            "s2\n",
            "u3\n",
            "s4\n"
          ]
        }
      ]
    },
    {
      "cell_type": "code",
      "source": [
        "for j in range(1):\n",
        " for i in range(1):\n",
        "  print(\"jesus\", end=\"\")\n",
        "  print(\"\")"
      ],
      "metadata": {
        "colab": {
          "base_uri": "https://localhost:8080/"
        },
        "id": "UfwAQO98m_rB",
        "outputId": "2235744f-2e9c-4607-8c38-cc39525a56fb"
      },
      "execution_count": 64,
      "outputs": [
        {
          "output_type": "stream",
          "name": "stdout",
          "text": [
            "jesus\n"
          ]
        }
      ]
    },
    {
      "cell_type": "code",
      "source": [
        "for i in range(2):\n",
        " for j in range(1):\n",
        "  print(i,j)\n",
        " print(i,j)\n",
        "print(i,j)"
      ],
      "metadata": {
        "colab": {
          "base_uri": "https://localhost:8080/"
        },
        "id": "F7JpMU3gppCY",
        "outputId": "11846bf6-7c31-4956-fd4a-473b5ddafa72"
      },
      "execution_count": 97,
      "outputs": [
        {
          "output_type": "stream",
          "name": "stdout",
          "text": [
            "0 0\n",
            "0 0\n",
            "1 0\n",
            "1 0\n",
            "1 0\n"
          ]
        }
      ]
    },
    {
      "cell_type": "code",
      "source": [
        "n=5\n",
        "for i in range(1,n+1):\n",
        " print(\"*\"*i)\n",
        ""
      ],
      "metadata": {
        "colab": {
          "base_uri": "https://localhost:8080/"
        },
        "id": "OvUszNyosqey",
        "outputId": "97c70382-f2ea-4cd2-bd9c-af88cb0a0d6e"
      },
      "execution_count": 166,
      "outputs": [
        {
          "output_type": "stream",
          "name": "stdout",
          "text": [
            "*\n",
            "**\n",
            "***\n",
            "****\n",
            "*****\n"
          ]
        }
      ]
    }
  ]
}